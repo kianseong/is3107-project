{
 "cells": [
  {
   "cell_type": "markdown",
   "id": "974a2377-3581-4b39-b34a-5d83f7a5dc33",
   "metadata": {
    "id": "974a2377-3581-4b39-b34a-5d83f7a5dc33",
    "tags": []
   },
   "source": [
    "## Importing libraries"
   ]
  },
  {
   "cell_type": "code",
   "execution_count": null,
   "id": "112231cb-877c-4fc0-8542-759d4399f38f",
   "metadata": {
    "id": "112231cb-877c-4fc0-8542-759d4399f38f"
   },
   "outputs": [],
   "source": [
    "import requests\n",
    "from bs4 import BeautifulSoup\n",
    "from pprint import pprint\n",
    "import pandas as pd\n",
    "import numpy as np\n",
    "import seaborn as sns\n",
    "from matplotlib import pyplot as plt\n",
    "import datetime"
   ]
  },
  {
   "cell_type": "markdown",
   "id": "b518ce54-da26-493e-9e76-d5a91b10de7d",
   "metadata": {
    "id": "b518ce54-da26-493e-9e76-d5a91b10de7d",
    "tags": []
   },
   "source": [
    "## Data Scraping"
   ]
  },
  {
   "cell_type": "code",
   "execution_count": null,
   "id": "4285a06a-f371-4700-b225-346df0994a87",
   "metadata": {
    "id": "4285a06a-f371-4700-b225-346df0994a87"
   },
   "outputs": [],
   "source": [
    "headers = {\"User-Agent\": \"Mozilla/5.0 (Windows NT 10.0; Win64; x64) AppleWebKit/537.36 (KHTML, like Gecko) Chrome/78.0.3904.108 Safari/537.36\", \"Accept-Encoding\":\"gzip, deflate\", \"Accept\":\"text/html,application/xhtml+xml,application/xml;q=0.9,*/*;q=0.8\", \"DNT\":\"1\",\"Connection\":\"close\", \"Upgrade-Insecure-Requests\":\"1\"}\n",
    "\n",
    "my_headers = {\"User-Agent\":\"Mozilla/5.0 (Macintosh; Intel Mac OSX 10_14_3) AppleWebKit/537.36 (KHTML, like Gecko) Chrome/71.0.3578.98 Safari/537.36\", \"Accept\":\"text/html,application/xhtml+xml,application/xml;q=0.9,image/webp,image/apng,*/*;q=0.8\"}\n",
    "\n",
    "def get_soup(url):\n",
    "    res = requests.get(url, headers=headers)\n",
    "    soup = BeautifulSoup(res.content, 'html.parser')\n",
    "    return soup"
   ]
  },
  {
   "cell_type": "markdown",
   "id": "132a5777-f3bc-46bd-a499-66fbf9f6519d",
   "metadata": {
    "id": "132a5777-f3bc-46bd-a499-66fbf9f6519d",
    "tags": []
   },
   "source": [
    "### Category"
   ]
  },
  {
   "cell_type": "markdown",
   "id": "279101d3-0aa4-4690-a8fe-4cf075cba3a9",
   "metadata": {},
   "source": [
    "Scrape all available category name and link from the \"homepage\""
   ]
  },
  {
   "cell_type": "code",
   "execution_count": null,
   "id": "5a101755-49ae-4ffa-8095-e3433ba47045",
   "metadata": {
    "id": "5a101755-49ae-4ffa-8095-e3433ba47045"
   },
   "outputs": [],
   "source": [
    "category_url = 'https://www.amazon.com/b/ref=glow_cls?node=17938598011'\n",
    "amazon_soup = get_soup(url=category_url)"
   ]
  },
  {
   "cell_type": "code",
   "execution_count": null,
   "id": "8b9af3a0-d64c-47e7-a438-7fc01e275616",
   "metadata": {
    "id": "8b9af3a0-d64c-47e7-a438-7fc01e275616"
   },
   "outputs": [],
   "source": [
    "# Search for all categories\n",
    "att0=0\n",
    "departments = []\n",
    "while((departments==[]) & (att0<=1000)):\n",
    "    amazon_soup = get_soup(url=category_url)\n",
    "    departments = amazon_soup.find('div', {'class':\"left_nav browseBox\"})\n",
    "    att0=att0+1"
   ]
  },
  {
   "cell_type": "code",
   "execution_count": null,
   "id": "dd67ef55-8b1a-4983-b907-2765274dbfe3",
   "metadata": {},
   "outputs": [],
   "source": [
    "categories_soup = departments.find_all('li')[2:]"
   ]
  },
  {
   "cell_type": "code",
   "execution_count": null,
   "id": "57eb9033-12a9-40ad-92ad-378882838667",
   "metadata": {
    "id": "57eb9033-12a9-40ad-92ad-378882838667"
   },
   "outputs": [],
   "source": [
    "# Store each category's name and link to a dictionary\n",
    "categories = {}\n",
    "\n",
    "for category in categories_soup:\n",
    "    name = category.get_text().strip()\n",
    "    link = 'https://www.amazon.com' + category.find('a')['href']\n",
    "    categories[name] = link"
   ]
  },
  {
   "cell_type": "code",
   "execution_count": null,
   "id": "9b6be6f2-ae5f-404f-9b6e-ef8fc5a55983",
   "metadata": {
    "id": "9b6be6f2-ae5f-404f-9b6e-ef8fc5a55983",
    "outputId": "7190f2d9-26c0-4373-9733-71c47365831c"
   },
   "outputs": [],
   "source": [
    "pprint(categories)"
   ]
  },
  {
   "cell_type": "markdown",
   "id": "57d09065-1a4b-4592-a8bf-5b501a801cc0",
   "metadata": {
    "id": "57d09065-1a4b-4592-a8bf-5b501a801cc0",
    "tags": []
   },
   "source": [
    "### Sub category"
   ]
  },
  {
   "cell_type": "markdown",
   "id": "6b5d1c27-617a-40df-b935-0d5728c0ea2e",
   "metadata": {},
   "source": [
    "Using the link in each category, scrape all subcategories' name and link"
   ]
  },
  {
   "cell_type": "code",
   "execution_count": null,
   "id": "2a66ac99-676a-4dd1-a92c-deceeed93177",
   "metadata": {
    "id": "2a66ac99-676a-4dd1-a92c-deceeed93177"
   },
   "outputs": [],
   "source": [
    "\"\"\"\n",
    "Expected data structure:\n",
    "category_and_sub = {\n",
    "                    \"arts\" : [[\"crafting\", \"crafting_link\"],\n",
    "                                [\"fabric\", \"fabric_link\"],\n",
    "                                [\"sewing\", \"sewing_link\"]]\n",
    "                    }\n",
    "\"\"\""
   ]
  },
  {
   "cell_type": "code",
   "execution_count": null,
   "id": "c75ed567-1ba3-473c-b7cc-5b31acaacccd",
   "metadata": {
    "id": "c75ed567-1ba3-473c-b7cc-5b31acaacccd",
    "outputId": "198752e9-b3af-40d8-a9a2-70866eb7fb03",
    "scrolled": true
   },
   "outputs": [],
   "source": [
    "categories_and_subs = {}\n",
    "not_scraped = {}\n",
    "\n",
    "for category in categories:\n",
    "    # Find all subcategory from the current category link\n",
    "    subcategories_soup = get_soup(url=categories[category])\n",
    "    subcategories = subcategories_soup.find_all('a', {'class':'a-color-base a-link-normal'})[0:]\n",
    "    \n",
    "    categories_and_subs[category] = []\n",
    "    \n",
    "    print(f\"Scraping {category}\")\n",
    "    \n",
    "    for subcategory in subcategories:\n",
    "        # Store the name and link of each subcategory found in the category\n",
    "        name = subcategory.get_text().strip()\n",
    "        link = 'https://www.amazon.com' + subcategory['href']\n",
    "        \n",
    "        categories_and_subs[category].append([name, link])\n",
    "        print(f'--scrape {[name, link]}')\n",
    "        \n",
    "    # Categories with no found subcategory\n",
    "    if categories_and_subs[category] == []:\n",
    "        not_scraped[category] = categories[category]\n",
    "        print(f'*** Could not scrape {category}')"
   ]
  },
  {
   "cell_type": "code",
   "execution_count": null,
   "id": "2c03a441-9cdf-4010-a9b4-eee0021199c4",
   "metadata": {},
   "outputs": [],
   "source": [
    "not_scraped"
   ]
  },
  {
   "cell_type": "code",
   "execution_count": null,
   "id": "ba8c4e49-ed42-466d-9d69-b4ce52fd12b7",
   "metadata": {
    "id": "ba8c4e49-ed42-466d-9d69-b4ce52fd12b7",
    "outputId": "f8281d0d-ed83-45ac-cbf2-1294d0007b46"
   },
   "outputs": [],
   "source": [
    "for category in not_scraped:\n",
    "    subcategories_soup = get_soup(url=not_scraped[category])\n",
    "    print(category)\n",
    "    subcategories = ['']\n",
    "    \n",
    "    categories_and_subs[category] = []\n",
    "    \n",
    "    for subcategory in subcategories:\n",
    "        name = ''\n",
    "        \n",
    "        query = (category + ' ' + name).split(' ')\n",
    "        query = '+'.join(query)\n",
    "        link = f\"https://www.amazon.com/s?k={query}\"\n",
    "        \n",
    "        categories_and_subs[category].append([name, link])"
   ]
  },
  {
   "cell_type": "code",
   "execution_count": null,
   "id": "99c173a4-b68d-4c81-9b7f-b86a944b4260",
   "metadata": {
    "id": "99c173a4-b68d-4c81-9b7f-b86a944b4260",
    "outputId": "1aac97c4-025d-4a48-d808-d334e47c1af4",
    "scrolled": true
   },
   "outputs": [],
   "source": [
    "for category in categories_and_subs:\n",
    "    print(category)\n",
    "    pprint(categories_and_subs[category])\n",
    "    print('\\n')"
   ]
  },
  {
   "cell_type": "markdown",
   "id": "58e40085-ac26-47c0-8bae-bad12005f82e",
   "metadata": {
    "id": "58e40085-ac26-47c0-8bae-bad12005f82e",
    "tags": []
   },
   "source": [
    "### Products"
   ]
  },
  {
   "cell_type": "code",
   "execution_count": null,
   "id": "de4cfb44-071b-4c2b-89f2-117042425192",
   "metadata": {
    "id": "de4cfb44-071b-4c2b-89f2-117042425192",
    "outputId": "b7a3a20a-ac7b-4689-9cda-e6e6c55cf84b"
   },
   "outputs": [],
   "source": [
    "print(f\"Total categories: {len(categories_and_subs)}\")\n",
    "\n",
    "subcategories_count = sum([len(categories_and_subs[c]) for c in categories_and_subs])\n",
    "print(f\"Total subcategories: {subcategories_count}\")\n",
    "\n",
    "# Each initial search query returns a minimun of 24 result(products), so our dataset would have an initial lenght of:\n",
    "print(f\"Total products: {subcategories_count * 24}\")"
   ]
  },
  {
   "cell_type": "code",
   "execution_count": null,
   "id": "e553086d-6474-43f9-af79-e0cc42648985",
   "metadata": {
    "id": "e553086d-6474-43f9-af79-e0cc42648985",
    "outputId": "8314b179-6f5e-47a9-c939-580b5b2d0c5f"
   },
   "outputs": [],
   "source": [
    "# Things are getting quite complicated. Time to bring in the pandas library\n",
    "subcategory_df = pd.DataFrame(columns=['Category', 'Sub Category', 'Link'])\n",
    "subcategory_df"
   ]
  },
  {
   "cell_type": "code",
   "execution_count": null,
   "id": "d8190c4c-30ad-4383-8b7b-6f7dfb5984df",
   "metadata": {
    "id": "d8190c4c-30ad-4383-8b7b-6f7dfb5984df"
   },
   "outputs": [],
   "source": [
    "# All values are simply stored in the dataframe\n",
    "i = 0\n",
    "for category in categories_and_subs:\n",
    "    for sub in categories_and_subs[category]:\n",
    "        subcategory_df.loc[i] = [category, sub[0], sub[1]]\n",
    "        i += 1"
   ]
  },
  {
   "cell_type": "code",
   "execution_count": null,
   "id": "3a909220-0e47-4522-9c2d-69bcf21d28ab",
   "metadata": {
    "id": "3a909220-0e47-4522-9c2d-69bcf21d28ab",
    "outputId": "5096cf2c-7979-4679-bd58-b5fa4d73fa7b"
   },
   "outputs": [],
   "source": [
    "assert len(subcategory_df) == subcategories_count\n",
    "subcategory_df"
   ]
  },
  {
   "cell_type": "code",
   "execution_count": null,
   "id": "e672cb19-f88f-4fed-86e9-52ab5593d142",
   "metadata": {},
   "outputs": [],
   "source": [
    "subcategory_df = subcategory_df.drop_duplicates(subset=\"Link\", keep=\"first\")\n",
    "subcategory_df"
   ]
  },
  {
   "cell_type": "code",
   "execution_count": null,
   "id": "6d1eed19-ed05-40ec-9c93-1257d885ecc7",
   "metadata": {
    "id": "6d1eed19-ed05-40ec-9c93-1257d885ecc7",
    "outputId": "9ec8b76a-db0f-444e-817b-55f478cdc523"
   },
   "outputs": [],
   "source": [
    "products_df = pd.DataFrame(columns=['Category', 'Sub Category', 'Product', 'Price', 'Stars_and_Count', \"Brand\", \"Best Sellers Rank\", \"Release Date\",\"Manufacturer\"])\n",
    "products_df"
   ]
  },
  {
   "cell_type": "code",
   "execution_count": null,
   "id": "4de2daa5-7f62-4147-9389-b732734aad50",
   "metadata": {
    "scrolled": true
   },
   "outputs": [],
   "source": [
    "i = 0\n",
    "# Loop through all subcategory\n",
    "for _, row in subcategory_df.iterrows():\n",
    "    \n",
    "    curr_subcategory = row['Sub Category']\n",
    "    curr_category = row['Category']\n",
    "    # For manual confirmation\n",
    "    print(f\"Searching {curr_subcategory}\")\n",
    "    print(f\"Searching {curr_category}\")\n",
    "    print(row['Link'])\n",
    "    \n",
    "    # Select all available products' element\n",
    "    row_soup = get_soup(url=row['Link'])\n",
    "    att=0\n",
    "    products_soup = []\n",
    "    while((products_soup==[]) & (att<=1000)):\n",
    "        row_soup = get_soup(url=row['Link'])\n",
    "        products_soup = row_soup.select('div.a-section.a-spacing-small.puis-padding-left-small.puis-padding-right-small')\n",
    "        att=att+1\n",
    "    \n",
    "    \n",
    "    if (products_soup==[]):\n",
    "        print(f\"failure\")\n",
    "\n",
    "        \n",
    "    # print(products_soup)\n",
    "    \n",
    "    # Loop through all products found\n",
    "    for product_soup in products_soup:\n",
    "        try:\n",
    "            target_keys = {\"Brand\", \"Best Sellers Rank\", \"Release Date\", \"Date First Available\", \"Manufacturer\"}\n",
    "            results = {key: None for key in target_keys}\n",
    "        \n",
    "            title = product_soup.select_one('h2.a-size-base-plus.a-spacing-none.a-color-base.a-text-normal').get_text()\n",
    "            rating = product_soup.select_one('div.a-row.a-size-small').get_text()\n",
    "            price = product_soup.select_one('span.a-price span').get_text()\n",
    "            # print(price)\n",
    "            \n",
    "            # get product details\n",
    "            link = product_soup.select_one('a.a-link-normal.s-line-clamp-4.s-link-style.a-text-normal')\n",
    "            link = 'https://www.amazon.com' + link['href']\n",
    "\n",
    "            # print(link)\n",
    "            \n",
    "            att2=0\n",
    "            attr_soup = []\n",
    "            while((attr_soup==[]) & (att2<=100)):\n",
    "                detail_soup = get_soup(url=link)\n",
    "                attr_soup = detail_soup.select('table#productDetails_detailBullets_sections1.a-keyvalue.prodDetTable')\n",
    "                att2=att2+1\n",
    "\n",
    "            # print(attr_soup)\n",
    "\n",
    "            if attr_soup:\n",
    "                table = attr_soup[0]  # Select the first matching table\n",
    "\n",
    "                \n",
    "                rows = table.find_all(\"tr\")  # Extract all rows of the table\n",
    "                # print(rows)\n",
    "                \n",
    "                for row in rows:\n",
    "                    #print(row)\n",
    "                    th = row.find('th').get_text(strip=True)  # Find <th> element\n",
    "                    #print(th)\n",
    "                    td = row.find('td').get_text(strip=True)  # Find <tb> element\n",
    "                    #print(td)\n",
    "                    if th in target_keys:  # Only process rows for specified keys\n",
    "                        value = td if td else None  # Get <tb> text or set to None\n",
    "                        results[th] = value\n",
    "                        #print(results)         \n",
    "                    #break one row\n",
    "                    \n",
    "        except AttributeError:\n",
    "            print('error')\n",
    "            break\n",
    "        \n",
    "        # Store values in our products dataframe\n",
    "        if (results[\"Release Date\"] == None):\n",
    "            results[\"Release Date\"] = results[\"Date First Available\"]\n",
    "        # print(results)\n",
    "        products_df.loc[i] = [curr_category, curr_subcategory, title, price, rating, results[\"Brand\"], results[\"Best Sellers Rank\"], results[\"Release Date\"],results[\"Manufacturer\"]]\n",
    "        i += 1\n",
    "        \n",
    "        print('arr')\n",
    "        \n",
    "        #break one product\n",
    "        \n",
    "    print()\n",
    "    # break #one subcategory"
   ]
  },
  {
   "cell_type": "code",
   "execution_count": null,
   "id": "58d051b9-5b5f-40c8-839d-c9e2f942b216",
   "metadata": {},
   "outputs": [],
   "source": [
    "products_df"
   ]
  },
  {
   "cell_type": "markdown",
   "id": "ddc60a03-249d-4218-a946-174c7db7a2d6",
   "metadata": {},
   "source": [
    "Data scraped without gathering info from secondary link"
   ]
  },
  {
   "cell_type": "code",
   "execution_count": null,
   "id": "7e02f192-f2d4-4b8b-8819-3afd1c138cba",
   "metadata": {},
   "outputs": [],
   "source": [
    "products_df1 = pd.DataFrame(columns=['Category', 'Sub Category', 'Product', 'Price', 'Stars_and_Count'])\n",
    "products_df1"
   ]
  },
  {
   "cell_type": "code",
   "execution_count": null,
   "id": "c28da7cb-2137-43e2-99f5-833e1164f46c",
   "metadata": {
    "id": "c28da7cb-2137-43e2-99f5-833e1164f46c",
    "scrolled": true
   },
   "outputs": [],
   "source": [
    "i = 0\n",
    "# Loop through all subcategory\n",
    "for _, row in subcategory_df.iterrows():\n",
    "    \n",
    "    curr_subcategory = row['Sub Category']\n",
    "    curr_category = row['Category']\n",
    "    # For manual confirmation\n",
    "    print(f\"Searching {curr_subcategory}\")\n",
    "    print(f\"Searching {curr_category}\")\n",
    "    print(row['Link'])\n",
    "    \n",
    "    # Select all available products' element\n",
    "    row_soup = get_soup(url=row['Link'])\n",
    "\n",
    "    att=0\n",
    "    products_soup = []\n",
    "    while((products_soup==[]) & (att<=1000)):\n",
    "        row_soup = get_soup(url=row['Link'])\n",
    "        products_soup = row_soup.select('div.a-section.a-spacing-small.puis-padding-left-small.puis-padding-right-small')\n",
    "        att=att+1\n",
    "    \n",
    "    if (products_soup==[]):\n",
    "        print(f\"failure\")\n",
    "        \n",
    "    # Loop through all products found\n",
    "    for product_soup in products_soup:\n",
    "        try:\n",
    "            title = product_soup.select_one('h2.a-size-base-plus.a-spacing-none.a-color-base.a-text-normal').get_text()\n",
    "            rating = product_soup.select_one('div.a-row.a-size-small').get_text()\n",
    "            price = product_soup.select_one('span.a-price span').get_text()\n",
    "        except AttributeError:\n",
    "            continue\n",
    "        \n",
    "        # Store values in our products dataframe\n",
    "        products_df1.loc[i] = [curr_category, curr_subcategory, title, price, rating]\n",
    "        i += 1\n",
    "    print()"
   ]
  },
  {
   "cell_type": "code",
   "execution_count": null,
   "id": "a77ae0a2-e454-45a8-84d1-6316de34ae83",
   "metadata": {
    "id": "a77ae0a2-e454-45a8-84d1-6316de34ae83",
    "outputId": "cb414dc3-efd0-4e8f-e231-4f8f404a2348",
    "scrolled": true
   },
   "outputs": [],
   "source": [
    "products_df1"
   ]
  },
  {
   "cell_type": "code",
   "execution_count": null,
   "id": "d0bafa67-de78-4229-90d9-fa07a92029e6",
   "metadata": {},
   "outputs": [],
   "source": [
    "products_df1.to_csv('data/products_original2.csv', index=False)"
   ]
  },
  {
   "cell_type": "markdown",
   "id": "e90f15c6-9d9e-4d47-be9a-8bf62bb51e26",
   "metadata": {},
   "source": [
    "A fancy approach would be to generate the payment options based on the price of the product bought<br>\n",
    "E.g. expensive products are more likely to be paid for with ATM cards or check, and cheaper products, with gift cards or cash "
   ]
  },
  {
   "cell_type": "code",
   "execution_count": null,
   "id": "b98d8174-7b59-4162-b78f-eb37eb6974cd",
   "metadata": {
    "colab": {
     "base_uri": "https://localhost:8080/",
     "height": 423
    },
    "id": "b98d8174-7b59-4162-b78f-eb37eb6974cd",
    "outputId": "63481627-fb4d-414d-8fae-3532cec9a4e3"
   },
   "outputs": [],
   "source": [
    "products_df['Price'] = products_df['Price'].str.strip('$').astype(float)\n",
    "products_df"
   ]
  },
  {
   "cell_type": "markdown",
   "id": "06d75848-905a-409e-a225-d3c8eddb6f51",
   "metadata": {
    "id": "06d75848-905a-409e-a225-d3c8eddb6f51"
   },
   "source": [
    "Quick analytics"
   ]
  },
  {
   "cell_type": "code",
   "execution_count": null,
   "id": "347c9ae0-3f7d-42a9-ab67-60b31f43bb8d",
   "metadata": {
    "colab": {
     "base_uri": "https://localhost:8080/",
     "height": 474
    },
    "id": "347c9ae0-3f7d-42a9-ab67-60b31f43bb8d",
    "outputId": "08c06fac-b63d-4b1c-8b39-1f03f06634b8"
   },
   "outputs": [],
   "source": [
    "plt.figure(figsize=(15,6))\n",
    "sns.scatterplot(data=products_df['Price'].value_counts())\n",
    "\n",
    "mean_value = products_df['Price'].mean()\n",
    "print(f'Mean: {mean_value}')\n",
    "\n",
    "sum_value = products_df['Price'].sum()\n",
    "print(f'Sum: {sum_value}')\n",
    "\n",
    "max_value = products_df['Price'].max()\n",
    "products_df.loc[products_df['Price']==max_value].iloc[0:1]"
   ]
  },
  {
   "cell_type": "code",
   "execution_count": null,
   "id": "efe7e55d-9696-4414-b443-7a427d711811",
   "metadata": {
    "id": "efe7e55d-9696-4414-b443-7a427d711811"
   },
   "outputs": [],
   "source": [
    "payment_options = ['Cash', 'ATM card', 'Check', 'Gift card', 'Mobile payment']\n",
    "\n",
    "payment_probs_1 = [0.7, 0.26, 0.002, 0.013, 0.025]\n",
    "payment_probs_2 = [0.2, 0.55, 0.045, 0.005, 0.2]\n",
    "\n",
    "assert sum(payment_probs_1) == 1\n",
    "assert sum(payment_probs_2) == 1"
   ]
  },
  {
   "cell_type": "code",
   "execution_count": null,
   "id": "230854bf-338b-48ab-9929-e3fa171dc2ce",
   "metadata": {
    "colab": {
     "base_uri": "https://localhost:8080/"
    },
    "id": "230854bf-338b-48ab-9929-e3fa171dc2ce",
    "outputId": "13573e5a-3262-4a88-9d4c-50deef188fd0"
   },
   "outputs": [],
   "source": [
    "for i in range(products_df.shape[0]):\n",
    "    \n",
    "    # Expensive products are less likely to be paid with cash\n",
    "    if products_df.loc[i, 'Price'] >= 300:\n",
    "        payment_probs = payment_probs_2\n",
    "    else:\n",
    "        payment_probs = payment_probs_1\n",
    "        \n",
    "    products_df.loc[i, 'Payment_Type'] = np.random.choice(payment_options, p=payment_probs)\n",
    "    \n",
    "\n",
    "    \n",
    "products_df['Payment_Type'].value_counts()"
   ]
  },
  {
   "cell_type": "code",
   "execution_count": null,
   "id": "6839de9a-cc02-4a26-a40e-99575a485912",
   "metadata": {
    "id": "6839de9a-cc02-4a26-a40e-99575a485912"
   },
   "outputs": [],
   "source": [
    "for i in range(products_df.shape[0]):\n",
    "    \n",
    "    # Expensive products typical generate more profit\n",
    "    if products_df.loc[i, 'Price'] >= 150:\n",
    "        profit_percent = np.random.uniform(0.1, 0.25)\n",
    "    else:\n",
    "        profit_percent = np.random.uniform(0.05, 0.15)\n",
    "    \n",
    "    price = products_df.loc[i, 'Price']\n",
    "    products_df.loc[i, 'Cost_Price'] = price - (profit_percent * price)"
   ]
  },
  {
   "cell_type": "code",
   "execution_count": null,
   "id": "D2CQfB52B3je",
   "metadata": {
    "id": "D2CQfB52B3je"
   },
   "outputs": [],
   "source": [
    "products_df['Cost_Price'].round(decimals=2)"
   ]
  },
  {
   "cell_type": "code",
   "execution_count": null,
   "id": "8f5db4c5-01e1-4148-8ef0-8478c449264f",
   "metadata": {
    "id": "8f5db4c5-01e1-4148-8ef0-8478c449264f"
   },
   "outputs": [],
   "source": [
    "start_date = datetime.date(2021, 1, 1)\n",
    "end_date = datetime.date(2022, 1, 1)\n",
    "\n",
    "days_between = (end_date - start_date).days"
   ]
  },
  {
   "cell_type": "code",
   "execution_count": null,
   "id": "0a216555-93cf-4b8b-a7f4-f393b45325d9",
   "metadata": {
    "id": "0a216555-93cf-4b8b-a7f4-f393b45325d9"
   },
   "outputs": [],
   "source": [
    "for i in range(products_df.shape[0]):\n",
    "    \n",
    "    # Generate a random date\n",
    "    random_day = np.random.randint(days_between)\n",
    "    random_date = start_date + datetime.timedelta(days=random_day)\n",
    "    \n",
    "    products_df.loc[i, 'Order_Date'] = random_date"
   ]
  },
  {
   "cell_type": "code",
   "execution_count": null,
   "id": "85a56517-c79b-45d0-bb4f-964e4a2199dd",
   "metadata": {
    "id": "85a56517-c79b-45d0-bb4f-964e4a2199dd"
   },
   "outputs": [],
   "source": [
    "products_df.rename(columns={'Sub Category':'Sub_Category',\n",
    "                            'Branches':'Branch'}, inplace=True)\n",
    "\n",
    "products_df.drop(columns=['Occurance', 'Rating_Count', 'Rating'], inplace=True)\n",
    "\n",
    "\n",
    "# Reorder columns\n",
    "products_df = products_df[['Branch', 'Category', 'Sub_Category', 'Product',\n",
    "                           'Price', 'Cost_Price', 'Payment_Type', 'Order_Date']]"
   ]
  },
  {
   "cell_type": "code",
   "execution_count": null,
   "id": "DZBJm2Ab5yqz",
   "metadata": {
    "colab": {
     "base_uri": "https://localhost:8080/",
     "height": 423
    },
    "id": "DZBJm2Ab5yqz",
    "outputId": "35502248-5bbb-4623-de80-a1649895b391"
   },
   "outputs": [],
   "source": [
    "products_df = products_df.sample(frac=1).reset_index(drop=True)\n",
    "products_df.to_csv('products.csv', index=False)\n",
    "products_df"
   ]
  },
  {
   "cell_type": "code",
   "execution_count": null,
   "id": "47c3489a-3b5a-4506-a8f2-04666143636b",
   "metadata": {
    "id": "47c3489a-3b5a-4506-a8f2-04666143636b"
   },
   "outputs": [],
   "source": [
    "# from google.colab import files\n",
    "# files.download('/content/products.csv')"
   ]
  }
 ],
 "metadata": {
  "colab": {
   "collapsed_sections": [
    "974a2377-3581-4b39-b34a-5d83f7a5dc33",
    "b518ce54-da26-493e-9e76-d5a91b10de7d",
    "58e40085-ac26-47c0-8bae-bad12005f82e",
    "b2c3567a-961e-422d-b56f-3acb651971e3",
    "9dcc3e42-226c-4c1d-9c3f-bb029e2d5650"
   ],
   "name": "supermarketdataset.ipynb",
   "provenance": []
  },
  "kernelspec": {
   "display_name": "Python 3 (ipykernel)",
   "language": "python",
   "name": "python3"
  },
  "language_info": {
   "codemirror_mode": {
    "name": "ipython",
    "version": 3
   },
   "file_extension": ".py",
   "mimetype": "text/x-python",
   "name": "python",
   "nbconvert_exporter": "python",
   "pygments_lexer": "ipython3",
   "version": "3.10.10"
  }
 },
 "nbformat": 4,
 "nbformat_minor": 5
}
